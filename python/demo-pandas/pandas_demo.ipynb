{
 "metadata": {
  "language_info": {
   "codemirror_mode": {
    "name": "ipython",
    "version": 3
   },
   "file_extension": ".py",
   "mimetype": "text/x-python",
   "name": "python",
   "nbconvert_exporter": "python",
   "pygments_lexer": "ipython3",
   "version": "3.7.9-final"
  },
  "orig_nbformat": 2,
  "kernelspec": {
   "name": "python3",
   "display_name": "Python 3"
  }
 },
 "nbformat": 4,
 "nbformat_minor": 2,
 "cells": [
  {
   "cell_type": "code",
   "execution_count": 1,
   "metadata": {},
   "outputs": [],
   "source": [
    "import pandas as pd"
   ]
  },
  {
   "cell_type": "code",
   "execution_count": 6,
   "metadata": {},
   "outputs": [],
   "source": [
    "df = pd.read_csv(\"daggett.csv\", skiprows=2)\n",
    "cols = filter(lambda x: 'Unnamed' in x, df.columns)\n",
    "df.drop(cols, inplace=True, axis=1)"
   ]
  },
  {
   "cell_type": "code",
   "execution_count": 17,
   "metadata": {},
   "outputs": [
    {
     "output_type": "execute_result",
     "data": {
      "text/plain": [
       "count    744.000000\n",
       "mean      11.119624\n",
       "std        6.623539\n",
       "min       -1.000000\n",
       "25%        6.000000\n",
       "50%       10.000000\n",
       "75%       16.000000\n",
       "max       28.000000\n",
       "Name: Temperature, dtype: float64"
      ]
     },
     "metadata": {},
     "execution_count": 17
    }
   ],
   "source": [
    "df[df.Month == 3].Temperature.describe()"
   ]
  },
  {
   "cell_type": "code",
   "execution_count": 19,
   "metadata": {},
   "outputs": [
    {
     "output_type": "execute_result",
     "data": {
      "text/plain": [
       "       count        mean         std  min  25%    50%     75%     max\n",
       "Month                                                                \n",
       "1      744.0  234.673387  353.094403  0.0  0.0    0.0  462.25   982.0\n",
       "2      672.0  252.928571  367.962304  0.0  0.0    0.0  578.00   987.0\n",
       "3      744.0  304.641129  379.000426  0.0  0.0    0.0  693.00  1000.0\n",
       "4      720.0  348.770833  397.380265  0.0  0.0   13.5  814.25   975.0\n",
       "5      744.0  389.337366  404.822990  0.0  0.0  269.5  843.50  1015.0\n",
       "6      720.0  417.405556  398.816486  0.0  0.0  411.5  847.25  1005.0\n",
       "7      744.0  372.569892  391.129128  0.0  0.0  248.5  802.75  1009.0\n",
       "8      744.0  362.198925  396.433102  0.0  0.0  140.0  804.50  1008.0\n",
       "9      720.0  355.036111  405.637878  0.0  0.0    0.0  821.25   983.0\n",
       "10     744.0  312.778226  389.886660  0.0  0.0    0.0  749.25   981.0\n",
       "11     720.0  260.223611  376.599076  0.0  0.0    0.0  657.25   977.0\n",
       "12     744.0  220.002688  342.749786  0.0  0.0    0.0  445.75   979.0"
      ],
      "text/html": "<div>\n<style scoped>\n    .dataframe tbody tr th:only-of-type {\n        vertical-align: middle;\n    }\n\n    .dataframe tbody tr th {\n        vertical-align: top;\n    }\n\n    .dataframe thead th {\n        text-align: right;\n    }\n</style>\n<table border=\"1\" class=\"dataframe\">\n  <thead>\n    <tr style=\"text-align: right;\">\n      <th></th>\n      <th>count</th>\n      <th>mean</th>\n      <th>std</th>\n      <th>min</th>\n      <th>25%</th>\n      <th>50%</th>\n      <th>75%</th>\n      <th>max</th>\n    </tr>\n    <tr>\n      <th>Month</th>\n      <th></th>\n      <th></th>\n      <th></th>\n      <th></th>\n      <th></th>\n      <th></th>\n      <th></th>\n      <th></th>\n    </tr>\n  </thead>\n  <tbody>\n    <tr>\n      <th>1</th>\n      <td>744.0</td>\n      <td>234.673387</td>\n      <td>353.094403</td>\n      <td>0.0</td>\n      <td>0.0</td>\n      <td>0.0</td>\n      <td>462.25</td>\n      <td>982.0</td>\n    </tr>\n    <tr>\n      <th>2</th>\n      <td>672.0</td>\n      <td>252.928571</td>\n      <td>367.962304</td>\n      <td>0.0</td>\n      <td>0.0</td>\n      <td>0.0</td>\n      <td>578.00</td>\n      <td>987.0</td>\n    </tr>\n    <tr>\n      <th>3</th>\n      <td>744.0</td>\n      <td>304.641129</td>\n      <td>379.000426</td>\n      <td>0.0</td>\n      <td>0.0</td>\n      <td>0.0</td>\n      <td>693.00</td>\n      <td>1000.0</td>\n    </tr>\n    <tr>\n      <th>4</th>\n      <td>720.0</td>\n      <td>348.770833</td>\n      <td>397.380265</td>\n      <td>0.0</td>\n      <td>0.0</td>\n      <td>13.5</td>\n      <td>814.25</td>\n      <td>975.0</td>\n    </tr>\n    <tr>\n      <th>5</th>\n      <td>744.0</td>\n      <td>389.337366</td>\n      <td>404.822990</td>\n      <td>0.0</td>\n      <td>0.0</td>\n      <td>269.5</td>\n      <td>843.50</td>\n      <td>1015.0</td>\n    </tr>\n    <tr>\n      <th>6</th>\n      <td>720.0</td>\n      <td>417.405556</td>\n      <td>398.816486</td>\n      <td>0.0</td>\n      <td>0.0</td>\n      <td>411.5</td>\n      <td>847.25</td>\n      <td>1005.0</td>\n    </tr>\n    <tr>\n      <th>7</th>\n      <td>744.0</td>\n      <td>372.569892</td>\n      <td>391.129128</td>\n      <td>0.0</td>\n      <td>0.0</td>\n      <td>248.5</td>\n      <td>802.75</td>\n      <td>1009.0</td>\n    </tr>\n    <tr>\n      <th>8</th>\n      <td>744.0</td>\n      <td>362.198925</td>\n      <td>396.433102</td>\n      <td>0.0</td>\n      <td>0.0</td>\n      <td>140.0</td>\n      <td>804.50</td>\n      <td>1008.0</td>\n    </tr>\n    <tr>\n      <th>9</th>\n      <td>720.0</td>\n      <td>355.036111</td>\n      <td>405.637878</td>\n      <td>0.0</td>\n      <td>0.0</td>\n      <td>0.0</td>\n      <td>821.25</td>\n      <td>983.0</td>\n    </tr>\n    <tr>\n      <th>10</th>\n      <td>744.0</td>\n      <td>312.778226</td>\n      <td>389.886660</td>\n      <td>0.0</td>\n      <td>0.0</td>\n      <td>0.0</td>\n      <td>749.25</td>\n      <td>981.0</td>\n    </tr>\n    <tr>\n      <th>11</th>\n      <td>720.0</td>\n      <td>260.223611</td>\n      <td>376.599076</td>\n      <td>0.0</td>\n      <td>0.0</td>\n      <td>0.0</td>\n      <td>657.25</td>\n      <td>977.0</td>\n    </tr>\n    <tr>\n      <th>12</th>\n      <td>744.0</td>\n      <td>220.002688</td>\n      <td>342.749786</td>\n      <td>0.0</td>\n      <td>0.0</td>\n      <td>0.0</td>\n      <td>445.75</td>\n      <td>979.0</td>\n    </tr>\n  </tbody>\n</table>\n</div>"
     },
     "metadata": {},
     "execution_count": 19
    }
   ],
   "source": [
    "df.groupby('Month').DNI.describe()"
   ]
  },
  {
   "cell_type": "code",
   "execution_count": 21,
   "metadata": {},
   "outputs": [
    {
     "output_type": "execute_result",
     "data": {
      "text/plain": [
       "{1998, 1999, 2006, 2008, 2009, 2011, 2012, 2013, 2014}"
      ]
     },
     "metadata": {},
     "execution_count": 21
    }
   ],
   "source": [
    "set(df.Year)"
   ]
  },
  {
   "cell_type": "code",
   "execution_count": 22,
   "metadata": {},
   "outputs": [],
   "source": [
    "df[\"Year\"] = [2019 for row in df[\"Year\"]]"
   ]
  },
  {
   "cell_type": "code",
   "execution_count": 23,
   "metadata": {},
   "outputs": [],
   "source": [
    "df[\"DT\"] = pd.to_datetime( df[[\"Year\", \"Month\", \"Day\", \"Hour\", \"Minute\"]] )"
   ]
  },
  {
   "cell_type": "code",
   "execution_count": 25,
   "metadata": {},
   "outputs": [],
   "source": [
    "df.set_index(df.DT, inplace=True, drop=True)"
   ]
  },
  {
   "cell_type": "code",
   "execution_count": null,
   "metadata": {},
   "outputs": [],
   "source": []
  }
 ]
}